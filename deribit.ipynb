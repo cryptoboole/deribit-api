{
 "cells": [
  {
   "cell_type": "markdown",
   "metadata": {},
   "source": [
    "### deribit api example\n",
    "Small python request example"
   ]
  },
  {
   "cell_type": "code",
   "execution_count": null,
   "metadata": {},
   "outputs": [],
   "source": [
    "import json, pprint\n",
    "import datetime, time\n",
    "from ciso8601 import parse_datetime\n",
    "import pandas as pd"
   ]
  },
  {
   "cell_type": "code",
   "execution_count": null,
   "metadata": {},
   "outputs": [],
   "source": [
    "# make trades folder if it doesn't exist\n",
    "import os\n",
    "if not os.path.exists('trades'):\n",
    "    os.makedirs('trades')"
   ]
  },
  {
   "cell_type": "code",
   "execution_count": null,
   "metadata": {},
   "outputs": [],
   "source": [
    "# load secrets\n",
    "secrets = json.load(open('./secrets.json'))\n",
    "API_KEY = secrets['deribit']['key']\n",
    "API_SECRET = secrets['deribit']['secret']"
   ]
  },
  {
   "cell_type": "code",
   "execution_count": null,
   "metadata": {},
   "outputs": [],
   "source": [
    "# helpers\n",
    "pp = pprint.PrettyPrinter(indent=2)\n",
    "parseTimestamp = lambda x: datetime.datetime.fromtimestamp(x/1000.0)"
   ]
  },
  {
   "cell_type": "code",
   "execution_count": null,
   "metadata": {},
   "outputs": [],
   "source": [
    "# instantiate deribit API\n",
    "from DeribitAPI import DeribitClient\n",
    "deribit = DeribitClient(api_key=API_KEY, api_secret=API_SECRET)"
   ]
  },
  {
   "cell_type": "markdown",
   "metadata": {},
   "source": [
    "#### sample usage\n",
    "Using some class functions with arbitrary params"
   ]
  },
  {
   "cell_type": "code",
   "execution_count": null,
   "metadata": {},
   "outputs": [],
   "source": [
    "# EXAMPLE 1: get ETH option instruments and put in a dataframe and display first 5 results\n",
    "instruments = deribit.get_instruments('ETH', 'option', False)\n",
    "df_instruments = pd.DataFrame(instruments)\n",
    "eth_options = df_instruments[df_instruments['instrument_name'].str.contains('ETH')]\n",
    "eth_options.head()"
   ]
  },
  {
   "cell_type": "code",
   "execution_count": null,
   "metadata": {},
   "outputs": [],
   "source": [
    "# EXAMPLE 2: Get last 10 ETH-28MAY21-2000-P trades\n",
    "last_trades = deribit.get_last_trades_by_instrument(instrument='ETH-28MAY21-2000-P')\n",
    "print('TRADES', len(last_trades['trades']))\n",
    "pp.pprint(last_trades['trades'][0])"
   ]
  },
  {
   "cell_type": "code",
   "execution_count": null,
   "metadata": {},
   "outputs": [],
   "source": [
    "# EXAMPLE 3: Get all trades for ETH-28MAY21-2000-P between 2021-4-24 and 2021-4-26\n",
    "all_trades = deribit.get_all_trades_by_instrument(\n",
    "    instrument='ETH-28MAY21-2000-P',\n",
    "    start=int(datetime.datetime(2021, 4, 24).timestamp()*1e3),\n",
    "    end=int(datetime.datetime(2021, 4, 26).timestamp()*1e3))\n",
    "\n",
    "# output count of trades\n",
    "print('TRADES', len(all_trades))"
   ]
  },
  {
   "cell_type": "code",
   "execution_count": null,
   "metadata": {},
   "outputs": [],
   "source": [
    "# output parsed timestamps for trades\n",
    "[parseTimestamp(x['timestamp']) for x in all_trades]"
   ]
  },
  {
   "cell_type": "markdown",
   "metadata": {},
   "source": [
    "#### data export\n",
    "Example implementation of data export functionality with parameters"
   ]
  },
  {
   "cell_type": "code",
   "execution_count": null,
   "metadata": {},
   "outputs": [],
   "source": [
    "# conditions (parameters)\n",
    "start_dt = datetime.datetime(2021, 4, 24) # from and including\n",
    "end_dt = datetime.datetime(2021, 4, 25)   # up to but not including\n",
    "currency_symbol = 'ETH'\n",
    "instrument_filter = '30APR' # leave this as instrument_filter = None if you want to get all (could take a while)\n",
    "\n",
    "# retrieve filtered instruments\n",
    "active_options = pd.DataFrame(deribit.get_instruments(currency_symbol, 'option', False))\n",
    "if instrument_filter:\n",
    "    filtered_active_options = active_options[active_options['instrument_name'].str.contains(instrument_filter)]\n",
    "else:\n",
    "    filtered_active_options = active_options\n",
    "\n",
    "# fetch and save trades within timeframe to respective csv\n",
    "print('FETCHING TRADES FOR', len(filtered_active_options), 'INSTRUMENTS FOR', start_dt.strftime(\"%Y%m%d\"))\n",
    "for index, row in filtered_active_options.iterrows():\n",
    "    \n",
    "    # request all trades for instrument within timeframe\n",
    "    instrument_trades = deribit.get_all_trades_by_instrument(\n",
    "        instrument=row['instrument_name'],\n",
    "        start=int(start_dt.timestamp()*1e3),\n",
    "        end=int(end_dt.timestamp()*1e3))\n",
    "    \n",
    "    # parse to dataframe and save to csv\n",
    "    trades_df = pd.DataFrame(instrument_trades)\n",
    "    print(start_dt.strftime(\"%Y%m%d\"), row['instrument_name'], 'TRADES:', len(trades_df))\n",
    "    trades_df.to_csv(f'trades/{start_dt.strftime(\"%Y%m%d\")}_{row[\"instrument_name\"]}.csv', index=False)"
   ]
  },
  {
   "cell_type": "markdown",
   "metadata": {},
   "source": [
    "#### playground\n",
    "some python functionality to understand how to prepare parameters for the requests"
   ]
  },
  {
   "cell_type": "code",
   "execution_count": null,
   "metadata": {},
   "outputs": [],
   "source": [
    "# deribit timestamp logic (conversion to/from python)\n",
    "deribit_timestamp = 1619511419453\n",
    "dt = datetime.datetime.fromtimestamp(deribit_timestamp / 1000.0)\n",
    "reconverted = int(dt.timestamp()*1e3)\n",
    "print(deribit_timestamp, dt, reconverted, dt.strftime('%Y%m%d'))\n",
    "assert(deribit_timestamp == reconverted) # MUST NOT THROW ERROR"
   ]
  }
 ],
 "metadata": {
  "kernelspec": {
   "display_name": "Python 3",
   "language": "python",
   "name": "python3"
  },
  "language_info": {
   "codemirror_mode": {
    "name": "ipython",
    "version": 3
   },
   "file_extension": ".py",
   "mimetype": "text/x-python",
   "name": "python",
   "nbconvert_exporter": "python",
   "pygments_lexer": "ipython3",
   "version": "3.9.0"
  }
 },
 "nbformat": 4,
 "nbformat_minor": 4
}
